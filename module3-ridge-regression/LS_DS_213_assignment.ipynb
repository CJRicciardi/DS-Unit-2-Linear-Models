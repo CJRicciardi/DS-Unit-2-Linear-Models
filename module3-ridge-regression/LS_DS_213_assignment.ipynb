{
 "cells": [
  {
   "cell_type": "markdown",
   "metadata": {},
   "source": [
    "Lambda School Data Science\n",
    "\n",
    "*Unit 2, Sprint 1, Module 3*\n",
    "\n",
    "---"
   ]
  },
  {
   "cell_type": "markdown",
   "metadata": {
    "colab_type": "text",
    "id": "7IXUfiQ2UKj6"
   },
   "source": [
    "# Ridge Regression\n",
    "\n",
    "## Assignment\n",
    "\n",
    "We're going back to our other **New York City** real estate dataset. Instead of predicting apartment rents, you'll predict property sales prices.\n",
    "\n",
    "But not just for condos in Tribeca...\n",
    "\n",
    "- [ ] Use a subset of the data where `BUILDING_CLASS_CATEGORY` == `'01 ONE FAMILY DWELLINGS'` and the sale price was more than 100 thousand and less than 2 million.\n",
    "- [ ] Do train/test split. Use data from January — March 2019 to train. Use data from April 2019 to test.\n",
    "- [ ] Do one-hot encoding of categorical features.\n",
    "- [ ] Do feature selection with `SelectKBest`.\n",
    "- [ ] Fit a ridge regression model with multiple features. Use the `normalize=True` parameter (or do [feature scaling](https://scikit-learn.org/stable/modules/preprocessing.html) beforehand — use the scaler's `fit_transform` method with the train set, and the scaler's `transform` method with the test set)\n",
    "- [ ] Get mean absolute error for the test set.\n",
    "- [ ] As always, commit your notebook to your fork of the GitHub repo.\n",
    "\n",
    "The [NYC Department of Finance](https://www1.nyc.gov/site/finance/taxes/property-rolling-sales-data.page) has a glossary of property sales terms and NYC Building Class Code Descriptions. The data comes from the [NYC OpenData](https://data.cityofnewyork.us/browse?q=NYC%20calendar%20sales) portal.\n",
    "\n",
    "\n",
    "## Stretch Goals\n",
    "\n",
    "Don't worry, you aren't expected to do all these stretch goals! These are just ideas to consider and choose from.\n",
    "\n",
    "- [ ] Add your own stretch goal(s) !\n",
    "- [ ] Instead of `Ridge`, try `LinearRegression`. Depending on how many features you select, your errors will probably blow up! 💥\n",
    "- [ ] Instead of `Ridge`, try [`RidgeCV`](https://scikit-learn.org/stable/modules/generated/sklearn.linear_model.RidgeCV.html).\n",
    "- [ ] Learn more about feature selection:\n",
    "    - [\"Permutation importance\"](https://www.kaggle.com/dansbecker/permutation-importance)\n",
    "    - [scikit-learn's User Guide for Feature Selection](https://scikit-learn.org/stable/modules/feature_selection.html)\n",
    "    - [mlxtend](http://rasbt.github.io/mlxtend/) library\n",
    "    - scikit-learn-contrib libraries: [boruta_py](https://github.com/scikit-learn-contrib/boruta_py) & [stability-selection](https://github.com/scikit-learn-contrib/stability-selection)\n",
    "    - [_Feature Engineering and Selection_](http://www.feat.engineering/) by Kuhn & Johnson.\n",
    "- [ ] Try [statsmodels](https://www.statsmodels.org/stable/index.html) if you’re interested in more inferential statistical approach to linear regression and feature selection, looking at p values and 95% confidence intervals for the coefficients.\n",
    "- [ ] Read [_An Introduction to Statistical Learning_](http://faculty.marshall.usc.edu/gareth-james/ISL/ISLR%20Seventh%20Printing.pdf), Chapters 1-3, for more math & theory, but in an accessible, readable way.\n",
    "- [ ] Try [scikit-learn pipelines](https://scikit-learn.org/stable/modules/compose.html)."
   ]
  },
  {
   "cell_type": "code",
   "execution_count": 2,
   "metadata": {
    "colab": {},
    "colab_type": "code",
    "id": "o9eSnDYhUGD7"
   },
   "outputs": [],
   "source": [
    "%%capture\n",
    "import sys\n",
    "\n",
    "# If you're on Colab:\n",
    "if 'google.colab' in sys.modules:\n",
    "    DATA_PATH = 'https://raw.githubusercontent.com/LambdaSchool/DS-Unit-2-Applied-Modeling/master/data/'\n",
    "    !pip install category_encoders==2.*\n",
    "\n",
    "# If you're working locally:\n",
    "else:\n",
    "    DATA_PATH = '../data/'\n",
    "    \n",
    "# Ignore this Numpy warning when using Plotly Express:\n",
    "# FutureWarning: Method .ptp is deprecated and will be removed in a future version. Use numpy.ptp instead.\n",
    "import warnings\n",
    "warnings.filterwarnings(action='ignore', category=FutureWarning, module='numpy')"
   ]
  },
  {
   "cell_type": "code",
   "execution_count": 3,
   "metadata": {
    "colab": {},
    "colab_type": "code",
    "id": "QJBD4ruICm1m"
   },
   "outputs": [],
   "source": [
    "import pandas as pd\n",
    "import pandas_profiling\n",
    "\n",
    "# Read New York City property sales data\n",
    "df = pd.read_csv(DATA_PATH+'condos/NYC_Citywide_Rolling_Calendar_Sales.csv')\n",
    "\n",
    "# Change column names: replace spaces with underscores\n",
    "df.columns = [col.replace(' ', '_') for col in df]\n",
    "\n",
    "# SALE_PRICE was read as strings.\n",
    "# Remove symbols, convert to integer\n",
    "df['SALE_PRICE'] = (\n",
    "    df['SALE_PRICE']\n",
    "    .str.replace('$','')\n",
    "    .str.replace('-','')\n",
    "    .str.replace(',','')\n",
    "    .astype(int)\n",
    ")"
   ]
  },
  {
   "cell_type": "code",
   "execution_count": 4,
   "metadata": {},
   "outputs": [],
   "source": [
    "# BOROUGH is a numeric column, but arguably should be a categorical feature,\n",
    "# so convert it from a number to a string\n",
    "df['BOROUGH'] = df['BOROUGH'].astype(str)"
   ]
  },
  {
   "cell_type": "code",
   "execution_count": 5,
   "metadata": {},
   "outputs": [],
   "source": [
    "# Reduce cardinality for NEIGHBORHOOD feature\n",
    "\n",
    "# Get a list of the top 10 neighborhoods\n",
    "top10 = df['NEIGHBORHOOD'].value_counts()[:10].index\n",
    "\n",
    "# At locations where the neighborhood is NOT in the top 10, \n",
    "# replace the neighborhood with 'OTHER'\n",
    "df.loc[~df['NEIGHBORHOOD'].isin(top10), 'NEIGHBORHOOD'] = 'OTHER'"
   ]
  },
  {
   "cell_type": "code",
   "execution_count": 49,
   "metadata": {},
   "outputs": [
    {
     "data": {
      "text/plain": [
       "(3151, 21)"
      ]
     },
     "execution_count": 49,
     "metadata": {},
     "output_type": "execute_result"
    }
   ],
   "source": [
    "df.head(1)\n",
    "df.shape"
   ]
  },
  {
   "cell_type": "code",
   "execution_count": 13,
   "metadata": {},
   "outputs": [],
   "source": [
    "#filter df to only include single family dwellings\n",
    "df = df[df['BUILDING_CLASS_CATEGORY'] == '01 ONE FAMILY DWELLINGS']"
   ]
  },
  {
   "cell_type": "code",
   "execution_count": 18,
   "metadata": {},
   "outputs": [],
   "source": [
    "#change column titles to lower case \n",
    "df.columns = df.columns.str.lower()"
   ]
  },
  {
   "cell_type": "code",
   "execution_count": 28,
   "metadata": {},
   "outputs": [],
   "source": [
    "#filter df such that 100,000 < df < 2,000,000\n",
    "df = df[(df['sale_price'] > 100000) & (df['sale_price'] < 2000000)]"
   ]
  },
  {
   "cell_type": "code",
   "execution_count": 31,
   "metadata": {},
   "outputs": [],
   "source": [
    "#convert 'sale_date' to datetime format\n",
    "df['sale_date'] = pd.to_datetime(df['sale_date'])"
   ]
  },
  {
   "cell_type": "code",
   "execution_count": 56,
   "metadata": {},
   "outputs": [],
   "source": [
    "#drop 'apartment_number' all NaN except in one row (still useless info)\n",
    "df = df.drop('apartment_number', axis=1)"
   ]
  },
  {
   "cell_type": "code",
   "execution_count": 52,
   "metadata": {},
   "outputs": [],
   "source": [
    "#drop 'ease-ment' column (all NaN's) \n",
    "df = df.drop('ease-ment', axis=1)"
   ]
  },
  {
   "cell_type": "code",
   "execution_count": 85,
   "metadata": {},
   "outputs": [],
   "source": [
    "#rest index\n",
    "df = df.reset_index()"
   ]
  },
  {
   "cell_type": "code",
   "execution_count": 124,
   "metadata": {},
   "outputs": [
    {
     "data": {
      "text/html": [
       "<div>\n",
       "<style scoped>\n",
       "    .dataframe tbody tr th:only-of-type {\n",
       "        vertical-align: middle;\n",
       "    }\n",
       "\n",
       "    .dataframe tbody tr th {\n",
       "        vertical-align: top;\n",
       "    }\n",
       "\n",
       "    .dataframe thead th {\n",
       "        text-align: right;\n",
       "    }\n",
       "</style>\n",
       "<table border=\"1\" class=\"dataframe\">\n",
       "  <thead>\n",
       "    <tr style=\"text-align: right;\">\n",
       "      <th></th>\n",
       "      <th>count</th>\n",
       "      <th>unique</th>\n",
       "      <th>top</th>\n",
       "      <th>freq</th>\n",
       "      <th>first</th>\n",
       "      <th>last</th>\n",
       "    </tr>\n",
       "  </thead>\n",
       "  <tbody>\n",
       "    <tr>\n",
       "      <td>borough</td>\n",
       "      <td>3151</td>\n",
       "      <td>5</td>\n",
       "      <td>4</td>\n",
       "      <td>1580</td>\n",
       "      <td>NaT</td>\n",
       "      <td>NaT</td>\n",
       "    </tr>\n",
       "    <tr>\n",
       "      <td>neighborhood</td>\n",
       "      <td>3151</td>\n",
       "      <td>6</td>\n",
       "      <td>OTHER</td>\n",
       "      <td>2990</td>\n",
       "      <td>NaT</td>\n",
       "      <td>NaT</td>\n",
       "    </tr>\n",
       "    <tr>\n",
       "      <td>tax_class_at_present</td>\n",
       "      <td>3151</td>\n",
       "      <td>2</td>\n",
       "      <td>1</td>\n",
       "      <td>3111</td>\n",
       "      <td>NaT</td>\n",
       "      <td>NaT</td>\n",
       "    </tr>\n",
       "    <tr>\n",
       "      <td>building_class_at_present</td>\n",
       "      <td>3151</td>\n",
       "      <td>13</td>\n",
       "      <td>A1</td>\n",
       "      <td>1185</td>\n",
       "      <td>NaT</td>\n",
       "      <td>NaT</td>\n",
       "    </tr>\n",
       "    <tr>\n",
       "      <td>address</td>\n",
       "      <td>3151</td>\n",
       "      <td>3135</td>\n",
       "      <td>108-16 171ST PLACE</td>\n",
       "      <td>2</td>\n",
       "      <td>NaT</td>\n",
       "      <td>NaT</td>\n",
       "    </tr>\n",
       "    <tr>\n",
       "      <td>building_class_at_time_of_sale</td>\n",
       "      <td>3151</td>\n",
       "      <td>11</td>\n",
       "      <td>A1</td>\n",
       "      <td>1186</td>\n",
       "      <td>NaT</td>\n",
       "      <td>NaT</td>\n",
       "    </tr>\n",
       "    <tr>\n",
       "      <td>sale_date</td>\n",
       "      <td>3151</td>\n",
       "      <td>91</td>\n",
       "      <td>2019-01-31 00:00:00</td>\n",
       "      <td>78</td>\n",
       "      <td>2019-01-01</td>\n",
       "      <td>2019-04-30</td>\n",
       "    </tr>\n",
       "  </tbody>\n",
       "</table>\n",
       "</div>"
      ],
      "text/plain": [
       "                               count unique                  top  freq  \\\n",
       "borough                         3151      5                    4  1580   \n",
       "neighborhood                    3151      6                OTHER  2990   \n",
       "tax_class_at_present            3151      2                    1  3111   \n",
       "building_class_at_present       3151     13                   A1  1185   \n",
       "address                         3151   3135   108-16 171ST PLACE     2   \n",
       "building_class_at_time_of_sale  3151     11                   A1  1186   \n",
       "sale_date                       3151     91  2019-01-31 00:00:00    78   \n",
       "\n",
       "                                    first       last  \n",
       "borough                               NaT        NaT  \n",
       "neighborhood                          NaT        NaT  \n",
       "tax_class_at_present                  NaT        NaT  \n",
       "building_class_at_present             NaT        NaT  \n",
       "address                               NaT        NaT  \n",
       "building_class_at_time_of_sale        NaT        NaT  \n",
       "sale_date                      2019-01-01 2019-04-30  "
      ]
     },
     "execution_count": 124,
     "metadata": {},
     "output_type": "execute_result"
    }
   ],
   "source": [
    "df.describe(exclude='number').T"
   ]
  },
  {
   "cell_type": "code",
   "execution_count": 119,
   "metadata": {
    "scrolled": true
   },
   "outputs": [],
   "source": [
    "#convert 'land_square_feet' to numeric\n",
    "\n",
    "df['land_square_feet'] = pd.to_numeric(df['land_square_feet'].apply(lambda x: x.replace(',','')))"
   ]
  },
  {
   "cell_type": "code",
   "execution_count": 123,
   "metadata": {},
   "outputs": [],
   "source": [
    "#drop 'building_calss_category'\n",
    "\n",
    "df = df.drop('building_class_category', axis=1)"
   ]
  },
  {
   "cell_type": "code",
   "execution_count": 125,
   "metadata": {},
   "outputs": [],
   "source": [
    "#create train (Jan - March 2019) and test (April 2019)  df\n",
    "train = df[(df['sale_date'] >= pd.Timestamp(2019,1,1)) & (df['sale_date'] <= pd.Timestamp(2019,3,31))]\n",
    "test = df[(df['sale_date'] >= pd.Timestamp(2019,4,1)) & (df['sale_date'] <= pd.Timestamp(2019,4,30))]"
   ]
  },
  {
   "cell_type": "code",
   "execution_count": 126,
   "metadata": {},
   "outputs": [],
   "source": [
    "#set up categorical features for OneHot Encoding\n",
    "target = ['sale_price']\n",
    "high_cardinality = ['address', 'sale_date']\n",
    "features = train.columns.drop(high_cardinality + target)"
   ]
  },
  {
   "cell_type": "code",
   "execution_count": 130,
   "metadata": {},
   "outputs": [],
   "source": [
    "#setup train and test dfs\n",
    "X_train = train[features]\n",
    "X_test = test[features]\n",
    "y_train = train[target]\n",
    "y_test = test[target]"
   ]
  },
  {
   "cell_type": "code",
   "execution_count": 131,
   "metadata": {},
   "outputs": [],
   "source": [
    "#OneHotEncode the categorical columns\n",
    "import category_encoders as ce\n",
    "\n",
    "encoder = ce.OneHotEncoder(use_cat_names=True)\n",
    "X_train = encoder.fit_transform(X_train)\n",
    "X_test = encoder.transform(X_test)"
   ]
  },
  {
   "cell_type": "code",
   "execution_count": 146,
   "metadata": {},
   "outputs": [
    {
     "name": "stdout",
     "output_type": "stream",
     "text": [
      "1 features\n",
      "Test Mean Absolute Error: $183,641 \n",
      "\n",
      "2 features\n",
      "Test Mean Absolute Error: $179,555 \n",
      "\n",
      "3 features\n",
      "Test Mean Absolute Error: $179,291 \n",
      "\n",
      "4 features\n",
      "Test Mean Absolute Error: $179,291 \n",
      "\n",
      "5 features\n",
      "Test Mean Absolute Error: $170,483 \n",
      "\n",
      "6 features\n",
      "Test Mean Absolute Error: $169,982 \n",
      "\n",
      "7 features\n",
      "Test Mean Absolute Error: $168,140 \n",
      "\n",
      "8 features\n",
      "Test Mean Absolute Error: $168,245 \n",
      "\n",
      "9 features\n",
      "Test Mean Absolute Error: $167,855 \n",
      "\n",
      "10 features\n",
      "Test Mean Absolute Error: $164,737 \n",
      "\n",
      "11 features\n",
      "Test Mean Absolute Error: $165,346 \n",
      "\n",
      "12 features\n",
      "Test Mean Absolute Error: $164,860 \n",
      "\n",
      "13 features\n",
      "Test Mean Absolute Error: $155,159 \n",
      "\n",
      "14 features\n",
      "Test Mean Absolute Error: $156,541 \n",
      "\n",
      "15 features\n",
      "Test Mean Absolute Error: $156,572 \n",
      "\n",
      "16 features\n",
      "Test Mean Absolute Error: $156,573 \n",
      "\n",
      "17 features\n",
      "Test Mean Absolute Error: $156,394 \n",
      "\n",
      "18 features\n",
      "Test Mean Absolute Error: $156,394 \n",
      "\n",
      "19 features\n",
      "Test Mean Absolute Error: $156,255 \n",
      "\n",
      "20 features\n",
      "Test Mean Absolute Error: $156,255 \n",
      "\n",
      "21 features\n",
      "Test Mean Absolute Error: $154,396 \n",
      "\n",
      "22 features\n",
      "Test Mean Absolute Error: $154,426 \n",
      "\n",
      "23 features\n",
      "Test Mean Absolute Error: $154,426 \n",
      "\n",
      "24 features\n",
      "Test Mean Absolute Error: $154,426 \n",
      "\n",
      "25 features\n",
      "Test Mean Absolute Error: $154,426 \n",
      "\n",
      "26 features\n",
      "Test Mean Absolute Error: $154,122 \n",
      "\n",
      "27 features\n",
      "Test Mean Absolute Error: $153,987 \n",
      "\n",
      "28 features\n",
      "Test Mean Absolute Error: $153,911 \n",
      "\n",
      "29 features\n",
      "Test Mean Absolute Error: $153,863 \n",
      "\n",
      "30 features\n",
      "Test Mean Absolute Error: $154,713 \n",
      "\n",
      "31 features\n",
      "Test Mean Absolute Error: $154,839 \n",
      "\n",
      "32 features\n",
      "Test Mean Absolute Error: $154,839 \n",
      "\n",
      "33 features\n",
      "Test Mean Absolute Error: $154,788 \n",
      "\n",
      "34 features\n",
      "Test Mean Absolute Error: $154,781 \n",
      "\n",
      "35 features\n",
      "Test Mean Absolute Error: $154,760 \n",
      "\n",
      "36 features\n",
      "Test Mean Absolute Error: $154,593 \n",
      "\n",
      "37 features\n",
      "Test Mean Absolute Error: $154,593 \n",
      "\n",
      "38 features\n",
      "Test Mean Absolute Error: $155,529 \n",
      "\n",
      "39 features\n",
      "Test Mean Absolute Error: $155,697 \n",
      "\n",
      "40 features\n",
      "Test Mean Absolute Error: $155,764 \n",
      "\n",
      "41 features\n",
      "Test Mean Absolute Error: $155,747 \n",
      "\n",
      "42 features\n",
      "Test Mean Absolute Error: $156,274 \n",
      "\n",
      "43 features\n",
      "Test Mean Absolute Error: $156,509 \n",
      "\n",
      "44 features\n",
      "Test Mean Absolute Error: $156,472 \n",
      "\n",
      "45 features\n",
      "Test Mean Absolute Error: $156,469 \n",
      "\n",
      "46 features\n",
      "Test Mean Absolute Error: $156,469 \n",
      "\n",
      "47 features\n",
      "Test Mean Absolute Error: $156,469 \n",
      "\n",
      "48 features\n",
      "Test Mean Absolute Error: $156,469 \n",
      "\n"
     ]
    }
   ],
   "source": [
    "from sklearn.feature_selection import SelectKBest, f_regression\n",
    "from sklearn.linear_model import LinearRegression\n",
    "from sklearn.metrics import mean_absolute_error\n",
    "\n",
    "#selector = SelectKBest(score_func=f_regression, k=15)\n",
    "\n",
    "import warnings\n",
    "warnings.filterwarnings(\"ignore\")\n",
    "\n",
    "X_train_selected = selector.fit_transform(X_train, y_train)\n",
    "X_test_selected = selector.transform(X_test)\n",
    "\n",
    "for k in range (1, len(X_train.columns)+1):\n",
    "    print(f'{k} features')\n",
    "    \n",
    "    selector = SelectKBest(score_func=f_regression, k=k)\n",
    "    X_train_selected = selector.fit_transform(X_train, y_train)\n",
    "    X_test_selected = selector.transform(X_test)\n",
    "\n",
    "\n",
    "    model = LinearRegression()\n",
    "    model.fit(X_train_selected, y_train)\n",
    "    y_pred = model.predict(X_test_selected)\n",
    "    mae = mean_absolute_error(y_test, y_pred)\n",
    "    print(f'Test Mean Absolute Error: ${mae:,.0f} \\n')"
   ]
  },
  {
   "cell_type": "markdown",
   "metadata": {},
   "source": [
    "Based on the for loop printed above it appears that 13 features will maximize the accuracy of the model, with the safest amount of complexity."
   ]
  },
  {
   "cell_type": "code",
   "execution_count": 145,
   "metadata": {},
   "outputs": [
    {
     "name": "stdout",
     "output_type": "stream",
     "text": [
      "Alpha = 0.002\n",
      "Mean Absolute Error = $156,469\n"
     ]
    }
   ],
   "source": [
    "#import RidgeCV\n",
    "from sklearn.linear_model import RidgeCV\n",
    "#find the ideal alpha for model\n",
    "alphas = [.001, .002, .003, .004]\n",
    "ridge = RidgeCV(alphas=alphas, normalize=True)\n",
    "ridge.fit(X_train_selected, y_train)\n",
    "print(f'Alpha = {ridge.alpha_}')\n",
    "#determine Mean Absolute Error\n",
    "y_pred = model.predict(X_test)\n",
    "mae = mean_absolute_error(y_test, y_pred)\n",
    "print(f'Mean Absolute Error = ${mae:,.0f}')"
   ]
  },
  {
   "cell_type": "code",
   "execution_count": null,
   "metadata": {},
   "outputs": [],
   "source": []
  },
  {
   "cell_type": "markdown",
   "metadata": {},
   "source": [
    "- [x] Use a subset of the data where `BUILDING_CLASS_CATEGORY` == `'01 ONE FAMILY DWELLINGS'` and the sale price was more than 100 thousand and less than 2 million.\n",
    "- [x] Do train/test split. Use data from January — March 2019 to train. Use data from April 2019 to test.\n",
    "- [x] Do one-hot encoding of categorical features.\n",
    "- [x] Do feature selection with `SelectKBest`.\n",
    "- [ ] Fit a ridge regression model with multiple features. Use the `normalize=True` parameter (or do [feature scaling](https://scikit-learn.org/stable/modules/preprocessing.html) beforehand — use the scaler's `fit_transform` method with the train set, and the scaler's `transform` method with the test set)\n",
    "- [ ] Get mean absolute error for the test set.\n",
    "- [ ] As always, commit your notebook to your fork of the GitHub repo."
   ]
  }
 ],
 "metadata": {
  "kernelspec": {
   "display_name": "Python 3",
   "language": "python",
   "name": "python3"
  },
  "language_info": {
   "codemirror_mode": {
    "name": "ipython",
    "version": 3
   },
   "file_extension": ".py",
   "mimetype": "text/x-python",
   "name": "python",
   "nbconvert_exporter": "python",
   "pygments_lexer": "ipython3",
   "version": "3.7.4"
  }
 },
 "nbformat": 4,
 "nbformat_minor": 1
}
